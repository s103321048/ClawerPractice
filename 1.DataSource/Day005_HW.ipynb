{
 "cells": [
  {
   "cell_type": "markdown",
   "metadata": {},
   "source": [
    "# API 資料串接 - 以 Dcard API 實作範例\n",
    "\n",
    "* 了解 Dcard API 使用方式與回傳內容\n",
    "* 撰寫程式存取 API 且解析 JSON 格式資料\n"
   ]
  },
  {
   "cell_type": "markdown",
   "metadata": {},
   "source": [
    "## 作業目標\n",
    "\n",
    "* 請利用 API: https://www.dcard.tw/_api/forums/pet/posts?popular=true 回答下列問題：\n",
    "\n",
    "1. 這個 API 一次會回傳幾筆資料？每一筆資料包含哪些欄位？\n",
    "2. 取出每一筆資料的「標題」、「貼文時間」、「留言人數」、「按讚人數」\n",
    "3. 計算熱門/非熱門文章的「平均留言人數」與「平均按讚人數」"
   ]
  },
  {
   "cell_type": "code",
   "execution_count": 1,
   "metadata": {},
   "outputs": [
    {
     "name": "stdout",
     "output_type": "stream",
     "text": [
      "回傳30比 data\n",
      "資料欄位包含：\n",
      " dict_keys(['id', 'title', 'excerpt', 'anonymousSchool', 'anonymousDepartment', 'pinned', 'forumId', 'replyId', 'createdAt', 'updatedAt', 'commentCount', 'likeCount', 'withNickname', 'tags', 'topics', 'meta', 'forumName', 'forumAlias', 'nsfw', 'gender', 'school', 'department', 'replyTitle', 'mediaMeta', 'reactions', 'hidden', 'customStyle', 'isSuspiciousAccount', 'isModerator', 'layout', 'withImages', 'withVideos', 'media', 'reportReasonText', 'excerptComments', 'postAvatar', 'verifiedBadge'])\n"
     ]
    }
   ],
   "source": [
    "# 1. 這個 API 一次會回傳幾筆資料？每一筆資料包含哪些欄位？\n",
    "\n",
    "'''\n",
    "Your Code\n",
    "'''\n",
    "import requests\n",
    "import json\n",
    "\n",
    "rq = requests.get(\"https://www.dcard.tw/_api/forums/pet/posts?popular=true\")\n",
    "info = json.loads(rq.text)\n",
    "print( \"回傳%d比 data\" % (len(info)) )\n",
    "print( \"資料欄位包含：\\n\", info[0].keys())"
   ]
  },
  {
   "cell_type": "code",
   "execution_count": 2,
   "metadata": {
    "scrolled": true
   },
   "outputs": [
    {
     "data": {
      "text/plain": [
       "{'id': 234533425,\n",
       " 'title': '貓咪被捕獸夾夾到了怎麼辦',\n",
       " 'excerpt': '本人我是學生住在屏東偏鄉地區，剛剛出門晃晃遇到了牠，我剛剛有給他水喝還有罐頭吃了，我有幫他把捕獸夾拆下來了，我也不知道怎麼處理，我自己養活自己都有點困難了，有人知道有什麼地方能夠幫忙處理嗎？',\n",
       " 'anonymousSchool': False,\n",
       " 'anonymousDepartment': False,\n",
       " 'pinned': False,\n",
       " 'forumId': '7ee21581-1307-4ba9-b9dc-82028bdcca49',\n",
       " 'replyId': None,\n",
       " 'createdAt': '2020-10-01T07:27:46.215Z',\n",
       " 'updatedAt': '2020-10-01T17:56:40.003Z',\n",
       " 'commentCount': 86,\n",
       " 'likeCount': 1141,\n",
       " 'withNickname': False,\n",
       " 'tags': [],\n",
       " 'topics': ['貓', '受傷的貓', '補獸夾'],\n",
       " 'meta': {'layout': 'classic'},\n",
       " 'forumName': '寵物',\n",
       " 'forumAlias': 'pet',\n",
       " 'nsfw': False,\n",
       " 'gender': 'M',\n",
       " 'school': '臺北市立大學',\n",
       " 'department': '體育學系',\n",
       " 'replyTitle': None,\n",
       " 'mediaMeta': [{'id': '75d1e386-b084-4da6-95f7-f0e824aed9d9',\n",
       "   'url': 'https://i.imgur.com/hWdMjdll.jpg',\n",
       "   'normalizedUrl': 'https://i.imgur.com/hWdMjdll.jpg',\n",
       "   'thumbnail': 'https://i.imgur.com/hWdMjdll.jpg',\n",
       "   'type': 'image/thumbnail',\n",
       "   'tags': ['ANNOTATED'],\n",
       "   'createdAt': '2020-10-01T07:27:46.215Z',\n",
       "   'updatedAt': '2020-10-01T17:56:40.003Z'},\n",
       "  {'id': '75d1e386-b084-4da6-95f7-f0e824aed9d9',\n",
       "   'url': 'https://i.imgur.com/hWdMjdl.jpg',\n",
       "   'normalizedUrl': 'https://imgur.com/hWdMjdl',\n",
       "   'thumbnail': 'https://i.imgur.com/hWdMjdll.jpg',\n",
       "   'type': 'image/imgur',\n",
       "   'tags': ['ANNOTATED'],\n",
       "   'createdAt': '2020-10-01T07:27:46.215Z',\n",
       "   'updatedAt': '2020-10-01T17:56:40.003Z'},\n",
       "  {'id': 'f65589c9-8aa2-4417-b0fe-1d2b4e6a585f',\n",
       "   'url': 'https://i.imgur.com/Xzd5eTx.jpg',\n",
       "   'normalizedUrl': 'https://imgur.com/Xzd5eTx',\n",
       "   'thumbnail': 'https://i.imgur.com/Xzd5eTxl.jpg',\n",
       "   'type': 'image/imgur',\n",
       "   'tags': ['ANNOTATED'],\n",
       "   'createdAt': '2020-10-01T07:27:46.215Z',\n",
       "   'updatedAt': '2020-10-01T17:56:40.003Z'},\n",
       "  {'id': '1059292d-fe86-42e1-abbf-ec0257763a34',\n",
       "   'url': 'https://i.imgur.com/vO3UlSc.jpg',\n",
       "   'normalizedUrl': 'https://imgur.com/vO3UlSc',\n",
       "   'thumbnail': 'https://i.imgur.com/vO3UlScl.jpg',\n",
       "   'type': 'image/imgur',\n",
       "   'tags': ['ANNOTATED'],\n",
       "   'createdAt': '2020-10-01T07:27:46.215Z',\n",
       "   'updatedAt': '2020-10-01T17:56:40.003Z'}],\n",
       " 'reactions': [{'id': '286f599c-f86a-4932-82f0-f5a06f1eca03', 'count': 1029},\n",
       "  {'id': '514c2569-fd53-4d9d-a415-bf0f88e7329f', 'count': 93},\n",
       "  {'id': '011ead16-9b83-4729-9fde-c588920c6c2d', 'count': 12},\n",
       "  {'id': 'aa0d425f-d530-4478-9a77-fe3aedc79eea', 'count': 4},\n",
       "  {'id': '4b018f48-e184-445f-adf1-fc8e04ba09b9', 'count': 2},\n",
       "  {'id': 'e8e6bc5d-41b0-4129-b134-97507523d7ff', 'count': 1}],\n",
       " 'hidden': False,\n",
       " 'customStyle': None,\n",
       " 'isSuspiciousAccount': False,\n",
       " 'isModerator': False,\n",
       " 'layout': 'classic',\n",
       " 'withImages': True,\n",
       " 'withVideos': False,\n",
       " 'media': [{'url': 'https://i.imgur.com/hWdMjdl.jpg'},\n",
       "  {'url': 'https://i.imgur.com/Xzd5eTx.jpg'},\n",
       "  {'url': 'https://i.imgur.com/vO3UlSc.jpg'}],\n",
       " 'reportReasonText': '',\n",
       " 'excerptComments': [],\n",
       " 'postAvatar': '',\n",
       " 'verifiedBadge': False}"
      ]
     },
     "execution_count": 2,
     "metadata": {},
     "output_type": "execute_result"
    }
   ],
   "source": [
    "info[0]"
   ]
  },
  {
   "cell_type": "code",
   "execution_count": 3,
   "metadata": {},
   "outputs": [
    {
     "name": "stdout",
     "output_type": "stream",
     "text": [
      "Time：\t2020-10-01T07:27:46.215Z \t comments:86\t likes:\t 1141 \t Title:貓咪被捕獸夾夾到了怎麼辦\n",
      "Time：\t2020-10-01T07:47:16.496Z \t comments:41\t likes:\t 634 \t Title:抱歉把你養太胖了\n",
      "Time：\t2020-10-01T14:24:34.308Z \t comments:6\t likes:\t 111 \t Title:身上沾到血的小可憐🤣\n",
      "Time：\t2020-10-01T02:36:29.406Z \t comments:10\t likes:\t 96 \t Title:中秋節快樂\n",
      "Time：\t2020-10-01T13:04:21.136Z \t comments:3\t likes:\t 72 \t Title:牛五花回家見阿嬤囉！\n",
      "Time：\t2020-10-01T15:19:11.822Z \t comments:5\t likes:\t 44 \t Title:我家的小P🐷 2\n",
      "Time：\t2020-10-01T17:04:58.238Z \t comments:3\t likes:\t 35 \t Title:我們家黑到發亮的台灣犬♥️\n",
      "Time：\t2020-10-01T15:45:03.789Z \t comments:2\t likes:\t 33 \t Title:上廁所完美同步 感情很好的貓\n",
      "Time：\t2020-09-30T15:50:14.024Z \t comments:2\t likes:\t 30 \t Title:貓咪馬桶刷愛好者\n",
      "Time：\t2020-10-01T16:38:30.982Z \t comments:1\t likes:\t 15 \t Title:為什麼那麼愛跳啦😭還有喝自來水😭\n",
      "Time：\t2020-09-30T16:55:01.721Z \t comments:14\t likes:\t 14 \t Title:請問幼貓眼睛長這個怎麼辦\n",
      "Time：\t2020-10-01T05:07:29.300Z \t comments:5\t likes:\t 13 \t Title:不專業寵物電繪\n",
      "Time：\t2020-10-01T10:38:53.402Z \t comments:0\t likes:\t 12 \t Title:樂意做寵物奴的我們(⁎⁍̴̛ᴗ⁍̴̛⁎)\n",
      "Time：\t2020-10-01T12:22:04.963Z \t comments:3\t likes:\t 11 \t Title:協尋！馬子！急！董女無下文！\n",
      "Time：\t2020-10-01T18:29:35.795Z \t comments:2\t likes:\t 9 \t Title:我的貓跟我一起身材走針🙂\n",
      "Time：\t2020-10-01T07:52:04.491Z \t comments:0\t likes:\t 9 \t Title:超愛咬手機的喵🐱\n",
      "Time：\t2020-10-01T06:03:09.896Z \t comments:3\t likes:\t 9 \t Title:‼️協尋貓咪‼️新竹竹北西濱走失\n",
      "Time：\t2020-10-01T01:55:15.053Z \t comments:0\t likes:\t 9 \t Title:大家好 我叫spidey\n",
      "Time：\t2020-10-01T18:14:41.248Z \t comments:2\t likes:\t 8 \t Title:#圖 臉很像包子 所以取名叫包子\n",
      "Time：\t2020-10-01T13:30:52.605Z \t comments:1\t likes:\t 8 \t Title:化身中秋🌕小月兔/手作寵物月餅\n",
      "Time：\t2020-10-01T22:45:41.545Z \t comments:0\t likes:\t 7 \t Title:開箱可愛的毛蜘蛛飼養\n",
      "Time：\t2020-10-01T15:51:14.239Z \t comments:0\t likes:\t 6 \t Title:十月拾隻貓\n",
      "Time：\t2020-10-01T07:59:33.823Z \t comments:0\t likes:\t 6 \t Title:免費速寫你家貓貓😍迪卡上遇到的貓友\n",
      "Time：\t2020-09-30T19:23:13.110Z \t comments:16\t likes:\t 6 \t Title:父親的玩笑（內有角蛙 慎入）\n",
      "Time：\t2020-09-30T15:33:31.800Z \t comments:0\t likes:\t 6 \t Title:#問 聽到路人在偷渡活體入境\n",
      "Time：\t2020-10-01T22:37:13.958Z \t comments:0\t likes:\t 5 \t Title:橘貓啃木天蓼的嘴臉🤣\n",
      "Time：\t2020-10-01T14:03:54.134Z \t comments:1\t likes:\t 5 \t Title:問倉鼠吃飯的碗\n",
      "Time：\t2020-09-30T16:03:38.215Z \t comments:0\t likes:\t 5 \t Title:請大家幫我填問卷🙏\n",
      "Time：\t2020-10-01T19:27:03.415Z \t comments:0\t likes:\t 4 \t Title:（黃金獵犬）爸寶狗？？\n",
      "Time：\t2020-10-01T14:28:17.137Z \t comments:2\t likes:\t 4 \t Title:中秋貓貓來訪\n"
     ]
    }
   ],
   "source": [
    "# 2. 取出每一筆資料的「標題」、「貼文時間」、「留言人數」、「按讚人數」\n",
    "\n",
    "'''\n",
    "Your Code\n",
    "'''\n",
    "for i in info:\n",
    "    print( \"Time：\\t%s \\t comments:%d\\t likes:\\t %d \\t Title:%s\" \n",
    "          % (i['createdAt'], i['commentCount'], i['likeCount'],i['title'] ))"
   ]
  },
  {
   "cell_type": "code",
   "execution_count": 4,
   "metadata": {},
   "outputs": [
    {
     "name": "stdout",
     "output_type": "stream",
     "text": [
      "Average Likes: 78.90\n",
      "Average Comments: 6.93\n"
     ]
    }
   ],
   "source": [
    "# 3. 計算熱門/非熱門文章的「平均留言人數」與「平均按讚人數」\n",
    "\n",
    "'''\n",
    "Your Code\n",
    "'''\n",
    "likes = 0\n",
    "comments = 0\n",
    "for i in info:\n",
    "    likes += i['likeCount']\n",
    "    comments += i['commentCount']\n",
    "\n",
    "print(\"Average Likes: %.2f\" %(likes/len(info)) )\n",
    "print(\"Average Comments: %.2f\" %(comments/len(info)) )"
   ]
  },
  {
   "cell_type": "code",
   "execution_count": null,
   "metadata": {},
   "outputs": [],
   "source": []
  },
  {
   "cell_type": "code",
   "execution_count": null,
   "metadata": {},
   "outputs": [],
   "source": []
  }
 ],
 "metadata": {
  "kernelspec": {
   "display_name": "Python 3",
   "language": "python",
   "name": "python3"
  },
  "language_info": {
   "codemirror_mode": {
    "name": "ipython",
    "version": 3
   },
   "file_extension": ".py",
   "mimetype": "text/x-python",
   "name": "python",
   "nbconvert_exporter": "python",
   "pygments_lexer": "ipython3",
   "version": "3.7.4"
  }
 },
 "nbformat": 4,
 "nbformat_minor": 2
}
