{
 "cells": [
  {
   "cell_type": "markdown",
   "metadata": {},
   "source": [
    "# YAHOO電影爬蟲練習\n",
    "## 練習爬取電影放映資訊。必須逐步獲取電影的代號、放映地區、放映日期後，再送出查詢給伺服器。"
   ]
  },
  {
   "cell_type": "code",
   "execution_count": 1,
   "metadata": {},
   "outputs": [],
   "source": [
    "import requests\n",
    "import re\n",
    "from bs4 import BeautifulSoup"
   ]
  },
  {
   "cell_type": "markdown",
   "metadata": {},
   "source": [
    "### 先搜尋全部的電影代號(ID)資訊"
   ]
  },
  {
   "cell_type": "code",
   "execution_count": 2,
   "metadata": {},
   "outputs": [
    {
     "name": "stdout",
     "output_type": "stream",
     "text": [
      "Movie: 玉子愛情故事, ID: 10992\n",
      "Movie: 霜花店：朕的男人, ID: 10987\n",
      "Movie: 獅子山上, ID: 10985\n",
      "Movie: 地獄通話, ID: 10980\n",
      "Movie: 迷慾東京, ID: 10970\n",
      "Movie: 戀愛好好說, ID: 10964\n",
      "Movie: 綁票追殺令, ID: 10956\n",
      "Movie: 碧藍之海劇場版, ID: 10950\n",
      "Movie: 親愛的房客, ID: 10707\n",
      "Movie: 華氏11/9, ID: 9039\n",
      "Movie: 2020高雄電影節, ID: 10996\n",
      "Movie: 地下弒的秘密, ID: 10984\n",
      "Movie: 人造紀元：走進人類世, ID: 10979\n",
      "Movie: 劇場版高校艦隊, ID: 10978\n",
      "Movie: 被告, ID: 10969\n",
      "Movie: 阿比阿弟尋歌大冒險, ID: 10968\n",
      "Movie: 男人的一半還是男人, ID: 10967\n",
      "Movie: 詭憶, ID: 10960\n",
      "Movie: 浴血劍客, ID: 10957\n",
      "Movie: 奪命守門人, ID: 10952\n",
      "Movie: 藥頭大媽, ID: 10951\n",
      "Movie: 看不見的目擊者, ID: 10946\n",
      "Movie: 幻愛, ID: 10945\n",
      "Movie: 無聲, ID: 10926\n",
      "Movie: 無價之保, ID: 10959\n",
      "Movie: 千年一問, ID: 10948\n",
      "Movie: 星際效應, ID: 10941\n",
      "Movie: 倒數反擊, ID: 10906\n",
      "Movie: 刑警沒有假期, ID: 10881\n",
      "Movie: 愛情列車長, ID: 10857\n",
      "Movie: 工作細胞特別上映版-強「菌」來襲！人體腸道大騷動！, ID: 10827\n",
      "Movie: 特斯拉, ID: 10942\n",
      "Movie: 遺落夢境, ID: 10937\n",
      "Movie: 交響狂人, ID: 10922\n",
      "Movie: 阿公當家, ID: 10914\n",
      "Movie: 刻在你心底的名字, ID: 10902\n",
      "Movie: 森林特攻隊：大腳ㄚ家族, ID: 10894\n",
      "Movie: 急先鋒, ID: 10443\n",
      "Movie: 紫羅蘭永恆花園電影版, ID: 10431\n",
      "Movie: 電影哆啦A夢：大雄的新恐龍, ID: 10891\n",
      "Movie: 名偵探奶奶, ID: 10893\n",
      "Movie: 重裝救援：全境獵殺, ID: 10892\n",
      "Movie: 整容液, ID: 10889\n",
      "Movie: 消失的情人節, ID: 10870\n",
      "Movie: 麥路人, ID: 10900\n",
      "Movie: 訂製幸福滋味, ID: 10908\n",
      "Movie: 中央車站：數位修復版, ID: 10907\n",
      "Movie: 怪物先生, ID: 10898\n",
      "Movie: 密弒直播, ID: 10888\n",
      "Movie: 特務搞飛機, ID: 10886\n",
      "Movie: 蠟筆小新：激戰！塗鴉王國與差不多四勇者, ID: 10874\n",
      "Movie: 蘿莉破壞王, ID: 10776\n",
      "Movie: 我是大哥大！！劇場版, ID: 10871\n",
      "Movie: 完美嬌妻養成班, ID: 10588\n",
      "Movie: 花木蘭, ID: 8632\n",
      "Movie: 馗降：粽邪2, ID: 10787\n",
      "Movie: 美麗佳人歐蘭朵, ID: 10876\n",
      "Movie: 變種人, ID: 10452\n",
      "Movie: TENET天能, ID: 10433\n",
      "Movie: 最後的情書, ID: 10880\n",
      "Movie: 看不見的證人, ID: 10873\n",
      "Movie: 可不可以，你也剛好喜歡我, ID: 10473\n",
      "Movie: 逃出立法院, ID: 10535\n",
      "Movie: 天劫倒數, ID: 10850\n",
      "Movie: 隱藏的畫家, ID: 10841\n",
      "Movie: 6號鬼病床, ID: 10826\n",
      "Movie: 怪胎, ID: 10733\n",
      "Movie: 雙面追緝, ID: 10824\n",
      "Movie: 北海小英雄, ID: 10806\n",
      "Movie: 鋼鐵雨：深潛行動, ID: 10838\n",
      "Movie: 戀夏時光, ID: 10797\n",
      "Movie: 魔王的女兒, ID: 10730\n",
      "Movie: 翻供, ID: 10788\n",
      "Movie: 打噴嚏, ID: 5350\n",
      "Movie: 角落小夥伴電影版：魔法繪本裡的新朋友, ID: 10647\n",
      "Movie: 死因無可疑, ID: 10755\n",
      "Movie: 頭號粉絲, ID: 10722\n",
      "Movie: 親愛的小孩, ID: 10720\n",
      "Movie: 最瘋狂的旅程, ID: 10705\n",
      "Movie: 戰鬥少女選擇者 劇場版, ID: 10757\n",
      "Movie: 銀翼殺手最終版, ID: 10732\n",
      "Movie: 蝙蝠俠：開戰時刻, ID: 10674\n",
      "Movie: 雙面遊戲, ID: 10642\n",
      "Movie: 說再見前的30分鐘, ID: 10561\n",
      "Movie: 1/2的魔法, ID: 10505\n",
      "Movie: 巧虎電影：英雄遊樂園, ID: 10429\n",
      "Movie: 在時間停止的世界相遇, ID: 10259\n",
      "Movie: 天使怎麼了, ID: 9270\n",
      "Movie: 不可能的逃亡, ID: 9036\n",
      "Movie: 天注定, ID: 5093\n",
      "Movie: 一首搖滾上月球, ID: 4887\n",
      "Movie: 錢不夠用2, ID: 3026\n"
     ]
    }
   ],
   "source": [
    "# 查看目前上映那些電影，並擷取出其ID資訊\n",
    "url = 'https://movies.yahoo.com.tw/'\n",
    "resp = requests.get(url)\n",
    "resp.encoding = 'utf-8'\n",
    "\n",
    "soup = BeautifulSoup(resp.text, 'lxml')\n",
    "html = soup.find(\"select\", attrs={'name':'movie_id'})\n",
    "movie_item = html.find_all(\"option\", attrs={'data-name':re.compile('.*')})\n",
    "\n",
    "for p in movie_item:\n",
    "    print(\"Movie: %s, ID: %s\" % (p[\"data-name\"], p[\"value\"]))"
   ]
  },
  {
   "cell_type": "markdown",
   "metadata": {},
   "source": [
    "### 指定你有興趣的電影其ID，然後查詢其放映地區資訊。"
   ]
  },
  {
   "cell_type": "code",
   "execution_count": 34,
   "metadata": {},
   "outputs": [],
   "source": [
    "# 參考前一個步驟中擷取到的ID資訊，並指定ID\n",
    "movie_id = 10433"
   ]
  },
  {
   "cell_type": "code",
   "execution_count": 35,
   "metadata": {},
   "outputs": [
    {
     "name": "stdout",
     "output_type": "stream",
     "text": [
      "放映地區: 台北市, 代號(area_id): 28\n",
      "放映地區: 新北市, 代號(area_id): 8\n",
      "放映地區: 桃園, 代號(area_id): 16\n",
      "放映地區: 新竹, 代號(area_id): 20\n",
      "放映地區: 苗栗, 代號(area_id): 15\n",
      "放映地區: 台中, 代號(area_id): 2\n",
      "放映地區: 台南, 代號(area_id): 10\n",
      "放映地區: 高雄, 代號(area_id): 17\n",
      "放映地區: 宜蘭, 代號(area_id): 11\n",
      "放映地區: 花蓮, 代號(area_id): 12\n",
      "放映地區: 金門, 代號(area_id): 24\n"
     ]
    }
   ],
   "source": [
    "url = 'https://movies.yahoo.com.tw/api/v1/areas_by_movie_theater'\n",
    "payload = {'movie_id':str(movie_id)}\n",
    "\n",
    "# 模擬一個header\n",
    "headers = {\n",
    "    'authority': 'movies.yahoo.com.tw',\n",
    "    'method': 'GET',\n",
    "    'path': '/api/v1/areas_by_movie_theater?movie_id=' + str(movie_id),\n",
    "    'scheme': 'https',\n",
    "    'accept': 'application/json, text/javascript, */*; q=0.01',\n",
    "    'accept-encoding': 'gzip, deflate, br',\n",
    "    'accept-language': 'zh-TW,zh;q=0.9,en-US;q=0.8,en;q=0.7,zh-CN;q=0.6',\n",
    "    'cookie': 'rxx=9s3x2fws06.1g16irnc&v=1; _ga=GA1.3.2056742944.1551651301; GUC=AQEBAQFczFpdm0IfmwSB&s=AQAAACoo4N5D&g=XMsVBw; BX=4hkdk1decm57t&b=3&s=mr; _ga=GA1.4.2056742944.1551651301; nexagesuid=82843256dd234e8e91aa73f2062f8218; browsed_movie=eyJpdiI6IlJXWWtiSWJaZlNGK2MxQnhscnVUYWc9PSIsInZhbHVlIjoiMXRhMmVHRXRIeUNjc1RBWDJzdGYwbnlIQURmWGsrcjJSMzhkbkcraDNJVUNIZEZsbzU3amlFcVZ1NzlmazJrTGpoMjVrbHk1YmpoRENXaHZTOUw1TmI2ZTZVWHdOejZQZm16RmVuMWlHTTJLaTZLVFZZVkFOMDlTd1wvSGltcytJIiwibWFjIjoiZWQ2ZjA4MmVjZmZlYjlmNjJmYmY2NGMyMDI0Njc0NWViYjVkOWE2NDg0N2RhODMxZjBjZDhiMmJhZTc2MDZhYiJ9; avi=eyJpdiI6Im1NeWFJRlVRWDR1endEcGRGUGJUbVE9PSIsInZhbHVlIjoickRpU3JuUytmcGl6cjF5OW0rNU9iZz09IiwibWFjIjoiY2VmY2NkNzZmM2NhNjY5YzlkOTcyNjE5OGEyMzU0NWYxOTdmMDRkMDY3OWNmMmZjOTMxYjc5MjI5N2Q5NGE5MiJ9; cmp=t=1559391030&j=0; _gid=GA1.4.779543841.1559391031; XSRF-TOKEN=eyJpdiI6IkhpS2hGcDRQaHlmWUJmaHdSS2Q2bHc9PSIsInZhbHVlIjoiOUVoNFk4OHI1UUZmUWRtYXhza0MyWjJSTlhlZ3RnT0VGeVJPN2JuczVRMGRFdWt2OUlsamVKeHRobFwvcHBGM0dhU3VyMXNGTHlsb2dVM2l0U1hpUGxBPT0iLCJtYWMiOiJkZWU4YzJhNjAxMTY3MzE4Y2ExNWIxYmE1ZjE1YWZlZTlhOTcyYjc4M2RlZGY4ZWNjZDYyMTA2NGYwZGViMzc2In0%3D; m_s=eyJpdiI6InpsZHZ2Tk1BZ0dxaHhETml1RjBnUXc9PSIsInZhbHVlIjoiSkNGeHUranRoXC85bDFiaDhySTJqNkJRcWdjWUxjeVRJSHVYZ1wvd2d4bWJZUTUrSHVDM0lUcW5KNHdETFZ4T1lieU81OUhzc1VoUXhZcWk0UDZSQXVFdz09IiwibWFjIjoiYmJkMDJkMDhlODIzMzcyMWY4M2NmYWNjNGVlOWRjMDIwZmVmNzAyMjE3Yzg3ZGY3ODBkZWEzZTI4MTI5ZWNmOSJ9; _gat=1; nexagesd=10',\n",
    "    'dnt': '1',\n",
    "    'mv-authorization': '21835b082e15b91a69b3851eec7b31b82ce82afb',\n",
    "    'referer': 'https://movies.yahoo.com.tw/',\n",
    "    'user-agent': 'Mozilla/5.0 (Windows NT 10.0; Win64; x64) AppleWebKit/537.36 (KHTML, like Gecko) Chrome/74.0.3729.169 Safari/537.36',\n",
    "    'x-requested-with': 'XMLHttpRequest',\n",
    "}\n",
    "    \n",
    "resp = requests.get(url, params=payload, headers=headers)\n",
    "#print(resp.json())  # 若有需要，列印出json原始碼\n",
    "\n",
    "# 這裡回傳的格式是JSON格式的資料，要解析JSON擷取資料\n",
    "for p in resp.json():\n",
    "    print('放映地區: {0}, 代號(area_id): {1}'.format(p['title'], p['area_id']))"
   ]
  },
  {
   "cell_type": "markdown",
   "metadata": {},
   "source": [
    "### 指定你想要觀看的放映地區，查詢有上映電影的場次日期"
   ]
  },
  {
   "cell_type": "code",
   "execution_count": 36,
   "metadata": {},
   "outputs": [],
   "source": [
    "# 指定放映地區\n",
    "area_id = 28"
   ]
  },
  {
   "cell_type": "code",
   "execution_count": 37,
   "metadata": {},
   "outputs": [
    {
     "name": "stdout",
     "output_type": "stream",
     "text": [
      "十月 29\n",
      "十月 30\n",
      "十月 31\n",
      "十一月 1\n",
      "十一月 2\n"
     ]
    }
   ],
   "source": [
    "# 向網站發送請求\n",
    "url = 'https://movies.yahoo.com.tw/movietime_result.html'\n",
    "payload = {'movie_id':str(movie_id), 'area_id':str(area_id)}\n",
    "resp = requests.get(url, params=payload)\n",
    "resp.encoding = 'utf-8'\n",
    "\n",
    "soup = BeautifulSoup(resp.text, 'lxml')\n",
    "movie_date = soup.find_all(\"label\", attrs={'for':re.compile(\"date_[\\d]\")})\n",
    "\n",
    "# 列印播放日期\n",
    "for date in movie_date:\n",
    "    print(\"%s %s\" % (date.p.string, date.h3.string))"
   ]
  },
  {
   "cell_type": "markdown",
   "metadata": {},
   "source": [
    "### 最後指定觀看的日期，查詢並列印出放映的電影院、放映類型(數位、3D、IMAX 3D...)、放映時間等資訊。"
   ]
  },
  {
   "cell_type": "code",
   "execution_count": 38,
   "metadata": {},
   "outputs": [],
   "source": [
    "# 選定要觀看的日期\n",
    "date = \"2020-11-02\""
   ]
  },
  {
   "cell_type": "code",
   "execution_count": 39,
   "metadata": {
    "scrolled": true
   },
   "outputs": [],
   "source": [
    "# 向網站發送請求，獲取上映的電影院及時間資訊\n",
    "url = \"https://movies.yahoo.com.tw/ajax/pc/get_schedule_by_movie\"\n",
    "payload = {'movie_id':str(movie_id),\n",
    "           'date':date,\n",
    "           'area_id':str(area_id),\n",
    "           'theater_id':'',\n",
    "           'datetime':'',\n",
    "           'movie_type_id':''}\n",
    "\n",
    "resp = requests.get(url, params=payload)\n",
    "#print(resp.json()['view'])  # 若有需要，列印出json原始碼\n",
    "#soup = BeautifulSoup(resp.json(), 'lxml')\n",
    "soup = BeautifulSoup(resp.json()['view'], 'lxml')\n",
    "html = soup.find_all(\"ul\", attrs={'data-theater_name':re.compile(\".*\")})"
   ]
  },
  {
   "cell_type": "code",
   "execution_count": 40,
   "metadata": {},
   "outputs": [
    {
     "data": {
      "text/plain": [
       "[<ul class=\"area_time _c jq_area_time\" data-theater_name=\"台北美麗華大直影城\" data-theater_schedules=\"https://movies.yahoo.com.tw/theater_result.html/id=32\" data-theater_url=\"http://www.miramarcinemas.tw/\" id=\"theater_id_32\">\n",
       " <li class=\"adds\">\n",
       " <a href=\"https://movies.yahoo.com.tw/theater_result.html/id=32\">台北美麗華大直影城</a>\n",
       " <span>02-85022208</span>\n",
       " </li>\n",
       " <li class=\"taps\">\n",
       " <span class=\"tapR\">IMAX</span> </li>\n",
       " <li class=\"time _c\">\n",
       " <div class=\"input_picker jq_input_picker\">\n",
       " <input class=\"gabtn\" data-cinema=\"40288eb0050f31210ada0f55676b1bbc\" data-date=\"1604246400\" data-ezding=\"ezding\" data-ga=\"['電影頁_時刻表', '電影頁_時刻表_場次', 'TENET天能']\" data-movie=\"6793b1f481b2437488292a5941d3bbfc\" data-movie_date=\"11.02\" data-movie_time=\"09:40\" data-movie_title=\"TENET天能\" data-movie_type=\"IMAX\" data-session=\"cbab1dd060ad4438a5557266c494cc65\" data-time=\"1604281200\" id=\"74389397\" name=\"schedule_list\" type=\"radio\" value=\"2020-11-02 09:40:00\"/>\n",
       " <label class=\"select\" for=\"74389397\">09:40</label>\n",
       " <input class=\"gabtn\" data-cinema=\"40288eb0050f31210ada0f55676b1bbc\" data-date=\"1604246400\" data-ezding=\"ezding\" data-ga=\"['電影頁_時刻表', '電影頁_時刻表_場次', 'TENET天能']\" data-movie=\"6793b1f481b2437488292a5941d3bbfc\" data-movie_date=\"11.02\" data-movie_time=\"22:10\" data-movie_title=\"TENET天能\" data-movie_type=\"IMAX\" data-session=\"cf0d02cb5ba94f12932d317084850f75\" data-time=\"1604326200\" id=\"74389398\" name=\"schedule_list\" type=\"radio\" value=\"2020-11-02 22:10:00\"/>\n",
       " <label class=\"select\" for=\"74389398\">22:10</label>\n",
       " </div>\n",
       " </li>\n",
       " <li class=\"taps\">\n",
       " <span class=\"tapR\">數位</span> </li>\n",
       " <li class=\"time _c\">\n",
       " <div class=\"input_picker jq_input_picker\">\n",
       " <input class=\"gabtn\" data-cinema=\"40288eb0050f31210ada0f55676b1bbc\" data-date=\"1604246400\" data-ezding=\"ezding\" data-ga=\"['電影頁_時刻表', '電影頁_時刻表_場次', 'TENET天能']\" data-movie=\"a2d12a0f03784e3283a3b99b786c2c9b\" data-movie_date=\"11.02\" data-movie_time=\"14:10\" data-movie_title=\"TENET天能\" data-movie_type=\"數位\" data-session=\"00537eeba1934fd68eb671202851fc04\" data-time=\"1604297400\" id=\"74394294\" name=\"schedule_list\" type=\"radio\" value=\"2020-11-02 14:10:00\"/>\n",
       " <label class=\"select\" for=\"74394294\">14:10</label>\n",
       " </div>\n",
       " </li>\n",
       " </ul>,\n",
       " <ul class=\"area_time _c jq_area_time\" data-theater_name=\"台北in89豪華數位影城\" data-theater_schedules=\"https://movies.yahoo.com.tw/theater_result.html/id=36\" data-theater_url=\"http://www.in89.com.tw/website_module.php?website_module_classify_sn=39\" id=\"theater_id_36\">\n",
       " <li class=\"adds\">\n",
       " <a href=\"https://movies.yahoo.com.tw/theater_result.html/id=36\">台北in89豪華數位影城</a>\n",
       " <span>02-23315077</span>\n",
       " </li>\n",
       " <li class=\"taps\">\n",
       " <span class=\"tapR\">數位</span> </li>\n",
       " <li class=\"time _c\">\n",
       " <div class=\"input_picker jq_input_picker\">\n",
       " <input class=\"gabtn\" data-cinema=\"e9c365f27f4e11e494ae8b4ddf78b93a\" data-date=\"1604246400\" data-ezding=\"ezding\" data-ga=\"['電影頁_時刻表', '電影頁_時刻表_場次', 'TENET天能']\" data-movie=\"a7cd6ed691714ae3877dc83f1fca50cf\" data-movie_date=\"11.03\" data-movie_time=\"00:25\" data-movie_title=\"TENET天能\" data-movie_type=\"數位\" data-session=\"014774167d8c42c991ddd235d8805e06\" data-time=\"1604334300\" id=\"74389739\" name=\"schedule_list\" type=\"radio\" value=\"2020-11-03 00:25:00\"/>\n",
       " <label class=\"select\" for=\"74389739\">00:25</label>\n",
       " </div>\n",
       " </li>\n",
       " </ul>,\n",
       " <ul class=\"area_time _c jq_area_time\" data-theater_name=\"台北信義威秀影城\" data-theater_schedules=\"https://movies.yahoo.com.tw/theater_result.html/id=45\" data-theater_url=\"http://www.vscinemas.com.tw/\" id=\"theater_id_45\">\n",
       " <li class=\"adds\">\n",
       " <a href=\"https://movies.yahoo.com.tw/theater_result.html/id=45\">台北信義威秀影城</a>\n",
       " <span>02-87805566</span>\n",
       " </li>\n",
       " <li class=\"taps\">\n",
       " <span class=\"tapR\">數位</span> </li>\n",
       " <li class=\"time _c\">\n",
       " <div class=\"input_picker jq_input_picker\">\n",
       " <input class=\"gabtn\" data-cinema=\"40288eb0050f542401050f554e7e0674\" data-date=\"1604246400\" data-ezding=\"ezding\" data-ga=\"['電影頁_時刻表', '電影頁_時刻表_場次', 'TENET天能']\" data-movie=\"533e57e5cacf447f86dc482c52d438e0\" data-movie_date=\"11.02\" data-movie_time=\"12:50\" data-movie_title=\"TENET天能\" data-movie_type=\"數位\" data-session=\"e1ca17322dae4a82967827b2cbb024ff\" data-time=\"1604292600\" id=\"74389960\" name=\"schedule_list\" type=\"radio\" value=\"2020-11-02 12:50:00\"/>\n",
       " <label class=\"select\" for=\"74389960\">12:50</label>\n",
       " <input class=\"gabtn\" data-cinema=\"40288eb0050f542401050f554e7e0674\" data-date=\"1604246400\" data-ezding=\"ezding\" data-ga=\"['電影頁_時刻表', '電影頁_時刻表_場次', 'TENET天能']\" data-movie=\"533e57e5cacf447f86dc482c52d438e0\" data-movie_date=\"11.02\" data-movie_time=\"21:50\" data-movie_title=\"TENET天能\" data-movie_type=\"數位\" data-session=\"54e0a03047ec4bec9f226b751f0ab71d\" data-time=\"1604325000\" id=\"74389961\" name=\"schedule_list\" type=\"radio\" value=\"2020-11-02 21:50:00\"/>\n",
       " <label class=\"select\" for=\"74389961\">21:50</label>\n",
       " </div>\n",
       " </li>\n",
       " </ul>,\n",
       " <ul class=\"area_time _c jq_area_time\" data-theater_name=\"京站威秀影城\" data-theater_schedules=\"https://movies.yahoo.com.tw/theater_result.html/id=118\" data-theater_url=\"http://www.vscinemas.com.tw/\" id=\"theater_id_118\">\n",
       " <li class=\"adds\">\n",
       " <a href=\"https://movies.yahoo.com.tw/theater_result.html/id=118\">京站威秀影城</a>\n",
       " <span>02-25525511</span>\n",
       " </li>\n",
       " <li class=\"taps\">\n",
       " <span class=\"tapR\">數位</span> </li>\n",
       " <li class=\"time _c\">\n",
       " <div class=\"input_picker jq_input_picker\">\n",
       " <input class=\"gabtn\" data-cinema=\"5f60dacd-45b3-102d-8d74-e400529c\" data-date=\"1604246400\" data-ezding=\"ezding\" data-ga=\"['電影頁_時刻表', '電影頁_時刻表_場次', 'TENET天能']\" data-movie=\"989fbd5324254f23ab9f3414920e8734\" data-movie_date=\"11.02\" data-movie_time=\"22:15\" data-movie_title=\"TENET天能\" data-movie_type=\"數位\" data-session=\"01ee25f75b0f4b6299309890f875dd85\" data-time=\"1604326500\" id=\"74389144\" name=\"schedule_list\" type=\"radio\" value=\"2020-11-02 22:15:00\"/>\n",
       " <label class=\"select\" for=\"74389144\">22:15</label>\n",
       " </div>\n",
       " </li>\n",
       " </ul>,\n",
       " <ul class=\"area_time _c jq_area_time\" data-theater_name=\"喜樂時代影城南港店\" data-theater_schedules=\"https://movies.yahoo.com.tw/theater_result.html/id=186\" data-theater_url=\"http://www.centuryasia.com.tw/default.aspx\" id=\"theater_id_186\">\n",
       " <li class=\"adds\">\n",
       " <a href=\"https://movies.yahoo.com.tw/theater_result.html/id=186\">喜樂時代影城南港店</a>\n",
       " <span>02-27888185</span>\n",
       " </li>\n",
       " <li class=\"taps\">\n",
       " <span class=\"tapR\">數位</span> </li>\n",
       " <li class=\"time _c\">\n",
       " <div class=\"input_picker jq_input_picker\">\n",
       " <input class=\"gabtn\" data-cinema=\"40288eb0050f542401050f5681782dc5\" data-date=\"1604246400\" data-ezding=\"ezding\" data-ga=\"['電影頁_時刻表', '電影頁_時刻表_場次', 'TENET天能']\" data-movie=\"f2b3d419a2d945a2baa5ea5cbc1887df\" data-movie_date=\"11.02\" data-movie_time=\"10:45\" data-movie_title=\"TENET天能\" data-movie_type=\"數位\" data-session=\"4cce53d003df41909faf91052e5dc609\" data-time=\"1604285100\" id=\"74393483\" name=\"schedule_list\" type=\"radio\" value=\"2020-11-02 10:45:00\"/>\n",
       " <label class=\"select\" for=\"74393483\">10:45</label>\n",
       " <input class=\"gabtn\" data-cinema=\"40288eb0050f542401050f5681782dc5\" data-date=\"1604246400\" data-ezding=\"ezding\" data-ga=\"['電影頁_時刻表', '電影頁_時刻表_場次', 'TENET天能']\" data-movie=\"f2b3d419a2d945a2baa5ea5cbc1887df\" data-movie_date=\"11.02\" data-movie_time=\"15:10\" data-movie_title=\"TENET天能\" data-movie_type=\"數位\" data-session=\"231999ff12e14ef28f1ad6a138ad7bd5\" data-time=\"1604301000\" id=\"74393484\" name=\"schedule_list\" type=\"radio\" value=\"2020-11-02 15:10:00\"/>\n",
       " <label class=\"select\" for=\"74393484\">15:10</label>\n",
       " </div>\n",
       " </li>\n",
       " </ul>]"
      ]
     },
     "execution_count": 40,
     "metadata": {},
     "output_type": "execute_result"
    }
   ],
   "source": [
    "html"
   ]
  },
  {
   "cell_type": "code",
   "execution_count": 41,
   "metadata": {},
   "outputs": [
    {
     "data": {
      "text/plain": [
       "5"
      ]
     },
     "execution_count": 41,
     "metadata": {},
     "output_type": "execute_result"
    }
   ],
   "source": [
    "len(html)"
   ]
  },
  {
   "cell_type": "code",
   "execution_count": 88,
   "metadata": {
    "scrolled": true
   },
   "outputs": [
    {
     "name": "stdout",
     "output_type": "stream",
     "text": [
      "=========================================\n",
      "電影院： 台北美麗華大直影城\n",
      "Type:  IMAX \n",
      "2020-11-02 09:40:00\n",
      "2020-11-02 22:10:00\n",
      "2020-11-02 14:10:00\n",
      "=========================================\n",
      "電影院： 台北in89豪華數位影城\n",
      "Type:  數位 \n",
      "2020-11-03 00:25:00\n",
      "=========================================\n",
      "電影院： 台北信義威秀影城\n",
      "Type:  數位 \n",
      "2020-11-02 12:50:00\n",
      "2020-11-02 21:50:00\n",
      "=========================================\n",
      "電影院： 京站威秀影城\n",
      "Type:  數位 \n",
      "2020-11-02 22:15:00\n",
      "=========================================\n",
      "電影院： 喜樂時代影城南港店\n",
      "Type:  數位 \n",
      "2020-11-02 10:45:00\n",
      "2020-11-02 15:10:00\n"
     ]
    }
   ],
   "source": [
    "for theater in html:\n",
    "    print(\"=========================================\")\n",
    "    print(\"電影院：\",theater.find('a').text)\n",
    "    print(\"Type: \",theater.find(\"li\", attrs={'class':'taps'}).text.replace(\"\\n\", \"\"))\n",
    "    for time in theater.find_all(\"li\", attrs={'class':'time _c'}):\n",
    "        for i in time.find_all(\"input\", attrs={'name':'schedule_list'}):\n",
    "            print(i['value'])"
   ]
  },
  {
   "cell_type": "code",
   "execution_count": 16,
   "metadata": {},
   "outputs": [
    {
     "name": "stdout",
     "output_type": "stream",
     "text": [
      "----------------------------------------------------------------------\n",
      "電影院:  台北美麗華大直影城\n",
      "放映類型:  數位\n",
      "2019-08-21 09:00:00\n",
      "2019-08-21 11:10:00\n",
      "2019-08-21 13:15:00\n",
      "2019-08-21 15:20:00\n",
      "2019-08-21 19:30:00\n",
      "2019-08-21 21:40:00\n",
      "2019-08-21 22:30:00\n",
      "----------------------------------------------------------------------\n",
      "電影院:  台北新光影城\n",
      "放映類型:  數位\n",
      "2019-08-21 10:00:00\n",
      "2019-08-21 14:50:00\n",
      "2019-08-21 19:30:00\n",
      "----------------------------------------------------------------------\n",
      "電影院:  台北in89豪華數位影城\n",
      "放映類型:  數位\n",
      "2019-08-21 09:30:00\n",
      "2019-08-21 11:20:00\n",
      "2019-08-21 13:15:00\n",
      "2019-08-21 15:10:00\n",
      "2019-08-21 16:10:00\n",
      "2019-08-21 17:10:00\n",
      "2019-08-21 18:05:00\n",
      "2019-08-21 19:10:00\n",
      "2019-08-21 21:10:00\n",
      "2019-08-21 23:10:00\n",
      "2019-08-22 01:10:00\n",
      "----------------------------------------------------------------------\n",
      "電影院:  台北日新威秀影城\n",
      "放映類型:  數位\n",
      "2019-08-21 09:00:00\n",
      "2019-08-21 10:55:00\n",
      "2019-08-21 12:50:00\n",
      "2019-08-21 14:45:00\n",
      "2019-08-21 16:40:00\n",
      "2019-08-21 18:35:00\n",
      "2019-08-21 20:35:00\n",
      "----------------------------------------------------------------------\n",
      "電影院:  喜滿客絕色影城\n",
      "放映類型:  數位\n",
      "2019-08-21 10:00:00\n",
      "2019-08-21 11:55:00\n",
      "2019-08-21 13:50:00\n",
      "2019-08-21 15:45:00\n",
      "2019-08-21 17:40:00\n",
      "2019-08-21 19:35:00\n",
      "2019-08-21 21:30:00\n",
      "----------------------------------------------------------------------\n",
      "電影院:  台北信義威秀影城\n",
      "放映類型:  數位\n",
      "2019-08-21 09:00:00\n",
      "2019-08-21 11:00:00\n",
      "2019-08-21 13:00:00\n",
      "2019-08-21 15:00:00\n",
      "2019-08-21 17:00:00\n",
      "2019-08-21 19:00:00\n",
      "2019-08-21 21:00:00\n",
      "2019-08-21 23:00:00\n",
      "----------------------------------------------------------------------\n",
      "電影院:  喜滿客京華影城\n",
      "放映類型:  數位\n",
      "2019-08-21 10:30:00\n",
      "2019-08-21 12:30:00\n",
      "2019-08-21 14:30:00\n",
      "2019-08-21 16:30:00\n",
      "2019-08-21 18:30:00\n",
      "2019-08-21 20:30:00\n",
      "2019-08-21 22:30:00\n",
      "----------------------------------------------------------------------\n",
      "電影院:  京站威秀影城\n",
      "放映類型:  數位\n",
      "2019-08-21 09:00:00\n",
      "2019-08-21 11:00:00\n",
      "2019-08-21 13:00:00\n",
      "2019-08-21 15:00:00\n",
      "2019-08-21 17:00:00\n",
      "2019-08-21 19:00:00\n",
      "2019-08-21 21:00:00\n",
      "----------------------------------------------------------------------\n",
      "電影院:  喜樂時代影城南港店\n",
      "放映類型:  數位\n",
      "2019-08-21 10:20:00\n",
      "2019-08-21 11:10:00\n",
      "2019-08-21 12:20:00\n",
      "2019-08-21 13:10:00\n",
      "2019-08-21 14:20:00\n",
      "2019-08-21 15:10:00\n",
      "2019-08-21 16:20:00\n",
      "2019-08-21 17:10:00\n",
      "2019-08-21 18:20:00\n",
      "2019-08-21 19:15:00\n",
      "2019-08-21 20:20:00\n",
      "2019-08-21 21:15:00\n",
      "2019-08-21 22:20:00\n"
     ]
    }
   ],
   "source": [
    "'''\n",
    "\n",
    "  試著從上一步驟回傳的電影院資料中，擷取電影院名稱、影片放映類型以及時間表\n",
    "  \n",
    "  Your code here.\n",
    "\n",
    "'''\n"
   ]
  },
  {
   "cell_type": "code",
   "execution_count": null,
   "metadata": {},
   "outputs": [],
   "source": []
  }
 ],
 "metadata": {
  "kernelspec": {
   "display_name": "Python 3",
   "language": "python",
   "name": "python3"
  },
  "language_info": {
   "codemirror_mode": {
    "name": "ipython",
    "version": 3
   },
   "file_extension": ".py",
   "mimetype": "text/x-python",
   "name": "python",
   "nbconvert_exporter": "python",
   "pygments_lexer": "ipython3",
   "version": "3.7.4"
  }
 },
 "nbformat": 4,
 "nbformat_minor": 2
}
